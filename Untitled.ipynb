{
 "cells": [
  {
   "cell_type": "code",
   "execution_count": 1,
   "metadata": {},
   "outputs": [],
   "source": [
    "import requests\n",
    "from flight import Flight\n",
    "# def get_flights\n",
    "# \tresp = RestClient.get \"https://s3.eu-central-1.amazonaws.com/catalogs.hulyo.co.il/catalogs/Production/Flights/v1.4/above199FlightsWebOnly.js\"\n",
    "# \tbody = JSON.parse(resp.body)\n",
    "# \tbody['Flights']\n",
    "# end\n",
    "def get_flights():\n",
    "    resp = requests.get(\"https://s3.eu-central-1.amazonaws.com/catalogs.hulyo.co.il/catalogs/Production/Flights/v1.4/above199FlightsWebOnly.js\")\n",
    "    return resp.json().get(\"Flights\")\n"
   ]
  },
  {
   "cell_type": "code",
   "execution_count": 8,
   "metadata": {},
   "outputs": [],
   "source": [
    "import requests\n",
    "import os\n",
    "USERNAME = \"Omertesttbot\"\n",
    "CHAT_ID = \"@iloveaya\"\n",
    "API_KEY = \"317083529:AAGnk7pMo301Kp3FW164OB5n4y7xUVn1HnI\"\n",
    "\n",
    "def send_flights(flights):\n",
    "    chunk_size = 10\n",
    "    for chunk in range(0, len(flights), chunk_size):\n",
    "        body = \"\\n=============\\n\".join([str(f) for f in flights[chunk: chunk+chunk_size]])\n",
    "        print(body)\n",
    "        req = requests.post(\n",
    "        \"https://api.telegram.org/bot{API_KEY}/sendMessage\".format(API_KEY=API_KEY),\n",
    "        data={\n",
    "            \"chat_id\": CHAT_ID,\n",
    "            \"text\": body,\n",
    "            \"parse_mode\": \"Markdown\"\n",
    "            }\n",
    "        )\n",
    "    "
   ]
  },
  {
   "cell_type": "code",
   "execution_count": 10,
   "metadata": {},
   "outputs": [],
   "source": [
    "from sqlalchemy.orm import sessionmaker\n",
    "from alchemy import engine, get_session\n",
    "\n",
    "session = get_session()\n",
    "to_send = []\n",
    "for f_raw in get_flights():\n",
    "    flight = Flight.factory(f_raw)\n",
    "    if flight.already_exists(session): continue\n",
    "    to_send.append(flight)\n",
    "    session.add(flight)\n",
    "send_flights(to_send)\n",
    "session.commit()"
   ]
  },
  {
   "cell_type": "code",
   "execution_count": 2,
   "metadata": {},
   "outputs": [],
   "source": [
    "k = get_flights()\n",
    "t = Flight.factory(k[0])\n",
    "#Query(func.count(Flight.id), session=session).filter(Flight.f_id == self.f_id and Flight.f_price <= self.f_price)"
   ]
  },
  {
   "cell_type": "code",
   "execution_count": 3,
   "metadata": {},
   "outputs": [
    {
     "name": "stdout",
     "output_type": "stream",
     "text": [
      "טיסה ל קפריסין - לרנקה ב 421 ש\"ח\n",
      "27/07/2019 12:00 - 03/08/2019 14:00\n",
      "https://www.hulyo.co.il/flightDetails/48174\n"
     ]
    }
   ],
   "source": [
    "print(t)"
   ]
  },
  {
   "cell_type": "code",
   "execution_count": 11,
   "metadata": {},
   "outputs": [],
   "source": [
    "!python setup.py"
   ]
  }
 ],
 "metadata": {
  "kernelspec": {
   "display_name": "Python 3",
   "language": "python",
   "name": "python3"
  },
  "language_info": {
   "codemirror_mode": {
    "name": "ipython",
    "version": 3
   },
   "file_extension": ".py",
   "mimetype": "text/x-python",
   "name": "python",
   "nbconvert_exporter": "python",
   "pygments_lexer": "ipython3",
   "version": "3.7.3"
  }
 },
 "nbformat": 4,
 "nbformat_minor": 2
}
